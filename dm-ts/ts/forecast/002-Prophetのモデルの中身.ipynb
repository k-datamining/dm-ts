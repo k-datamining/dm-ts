{
 "cells": [
  {
   "cell_type": "markdown",
   "metadata": {},
   "source": [
    "# Prophetのモデルの中身\n",
    "Prophetがどのようにしてモデルを作成しているのか、もう少し詳細に見てみます。"
   ]
  },
  {
   "cell_type": "code",
   "execution_count": 1,
   "metadata": {
    "tags": [
     "hide-input"
    ]
   },
   "outputs": [],
   "source": [
    "# Google　Colaboratory で実行する場合はインストールする\n",
    "if str(get_ipython()).startswith(\"<google.colab.\"):\n",
    "    !pip install japanize_matplotlib\n",
    "    !pip install prophet"
   ]
  },
  {
   "cell_type": "code",
   "execution_count": 2,
   "metadata": {},
   "outputs": [],
   "source": [
    "import numpy as np\n",
    "import pandas as pd\n",
    "import seaborn as sns\n",
    "import matplotlib.pyplot as plt\n",
    "import japanize_matplotlib\n",
    "from prophet import Prophet"
   ]
  },
  {
   "cell_type": "code",
   "execution_count": 3,
   "metadata": {
    "tags": [
     "hide-input"
    ]
   },
   "outputs": [],
   "source": [
    "# グラフの表示パラメタ\n",
    "sns.set(\n",
    "    rc={\n",
    "        \"figure.figsize\": (12, 4),\n",
    "        \"legend.fontsize\": \"large\",\n",
    "        \"figure.titlesize\": \"large\",\n",
    "        \"axes.titlesize\": 20,\n",
    "    }\n",
    ")\n",
    "japanize_matplotlib.japanize()"
   ]
  },
  {
   "cell_type": "markdown",
   "metadata": {},
   "source": [
    "TODO"
   ]
  }
 ],
 "metadata": {
  "celltoolbar": "Tags",
  "interpreter": {
   "hash": "2fd46f8ce36935685c97dea28ae1706c4157d99151da2536348ae32fb54d6c57"
  },
  "kernelspec": {
   "display_name": "Python 3 (ipykernel)",
   "language": "python",
   "name": "python3"
  },
  "language_info": {
   "codemirror_mode": {
    "name": "ipython",
    "version": 3
   },
   "file_extension": ".py",
   "mimetype": "text/x-python",
   "name": "python",
   "nbconvert_exporter": "python",
   "pygments_lexer": "ipython3",
   "version": "3.8.5"
  }
 },
 "nbformat": 4,
 "nbformat_minor": 2
}
